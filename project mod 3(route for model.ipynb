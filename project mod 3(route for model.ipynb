{
 "cells": [
  {
   "cell_type": "code",
   "execution_count": 1,
   "id": "50df576f-e328-4693-8762-4bf5791c372c",
   "metadata": {},
   "outputs": [],
   "source": [
    "import pickle\n",
    "import numpy as np\n",
    "import pandas as pd\n",
    "from sklearn.preprocessing import StandardScaler"
   ]
  },
  {
   "cell_type": "code",
   "execution_count": 2,
   "id": "b58ac312-8567-418a-bed7-2d8f7618bee7",
   "metadata": {},
   "outputs": [],
   "source": [
    "from flask import Flask,request,jsonify,render_template"
   ]
  },
  {
   "cell_type": "code",
   "execution_count": null,
   "id": "9bef9b3e-68da-46ca-8349-27d52f26f3c3",
   "metadata": {},
   "outputs": [],
   "source": [
    "app=Flask(__name__)\n",
    "\n",
    "#import pickle files\n",
    "svc_model=pickle.load(open('svc.pkl','rb'))\n",
    "scaler_model=pickle.load(open('std_scaler.pkl','rb'))\n",
    "\n",
    "#route for home page\n",
    "@app.route('/')\n",
    "def index():\n",
    "    return render_template('index.html')\n",
    "\n",
    "#route for prediction\n",
    "@app.route('/predict_heart_disease',methods=['GET','POST'])\n",
    "def predict():\n",
    "    if request.method=='POST':\n",
    "        age=float(request.form.get('age'))\n",
    "        sex = float(request.form.get('sex'))\n",
    "        cp = float(request.form.get('cp'))\n",
    "        trestbps = float(request.form.get('trestbps'))\n",
    "        chol = float(request.form.get('chol'))\n",
    "        fbs = float(request.form.get('fbs'))\n",
    "        restecg = float(request.form.get('restecg'))\n",
    "        thalach = float(request.form.get('thalach'))\n",
    "        exang = float(request.form.get('exang'))\n",
    "        oldpeak = float(request.form.get('oldpeak'))\n",
    "        slope = float(request.form.get('slope'))\n",
    "        ca = float(request.form.get('ca'))\n",
    "        thal = float(request.form.get('thal'))\n",
    "        \n",
    "        new_data_scaled=scaler_model.transform([[age,sex,cp,trestbps,chol,fbs,restecg,thalach,exang,oldpeak,slope,ca,thal]])\n",
    "        result=svc_model.predict(new_data_scaled)\n",
    "        \n",
    "        return render_template('home.html',result=result[0])\n",
    "        \n",
    "        \n",
    "    else:\n",
    "        return render_template('home.html')\n",
    "        \n",
    "    \n",
    "    \n",
    "\n",
    "\n",
    "if __name__=='__main__':\n",
    "    app.run(host='0.0.0.0',port=5000)"
   ]
  },
  {
   "cell_type": "code",
   "execution_count": null,
   "id": "71da3090-89d7-4126-bc84-fca95d9afa7c",
   "metadata": {},
   "outputs": [],
   "source": []
  }
 ],
 "metadata": {
  "kernelspec": {
   "display_name": "Python 3 (ipykernel)",
   "language": "python",
   "name": "python3"
  },
  "language_info": {
   "codemirror_mode": {
    "name": "ipython",
    "version": 3
   },
   "file_extension": ".py",
   "mimetype": "text/x-python",
   "name": "python",
   "nbconvert_exporter": "python",
   "pygments_lexer": "ipython3",
   "version": "3.11.7"
  }
 },
 "nbformat": 4,
 "nbformat_minor": 5
}
